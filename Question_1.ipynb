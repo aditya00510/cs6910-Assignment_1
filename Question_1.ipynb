{
  "nbformat": 4,
  "nbformat_minor": 0,
  "metadata": {
    "colab": {
      "name": "Question 1.ipynb",
      "provenance": [],
      "collapsed_sections": []
    },
    "kernelspec": {
      "name": "python3",
      "display_name": "Python 3"
    },
    "accelerator": "GPU",
    "widgets": {
      "application/vnd.jupyter.widget-state+json": {
        "885807e28fa747b3b1445dac0c8461de": {
          "model_module": "@jupyter-widgets/controls",
          "model_name": "VBoxModel",
          "state": {
            "_view_name": "VBoxView",
            "_dom_classes": [],
            "_model_name": "VBoxModel",
            "_view_module": "@jupyter-widgets/controls",
            "_model_module_version": "1.5.0",
            "_view_count": null,
            "_view_module_version": "1.5.0",
            "box_style": "",
            "layout": "IPY_MODEL_5cd4973afc8a44ad87bcb9025c67fbb7",
            "_model_module": "@jupyter-widgets/controls",
            "children": [
              "IPY_MODEL_0529471863414c268152112f709bbd9c",
              "IPY_MODEL_9d494be1fba64fd3aad180687f0c9b38"
            ]
          }
        },
        "5cd4973afc8a44ad87bcb9025c67fbb7": {
          "model_module": "@jupyter-widgets/base",
          "model_name": "LayoutModel",
          "state": {
            "_view_name": "LayoutView",
            "grid_template_rows": null,
            "right": null,
            "justify_content": null,
            "_view_module": "@jupyter-widgets/base",
            "overflow": null,
            "_model_module_version": "1.2.0",
            "_view_count": null,
            "flex_flow": null,
            "width": null,
            "min_width": null,
            "border": null,
            "align_items": null,
            "bottom": null,
            "_model_module": "@jupyter-widgets/base",
            "top": null,
            "grid_column": null,
            "overflow_y": null,
            "overflow_x": null,
            "grid_auto_flow": null,
            "grid_area": null,
            "grid_template_columns": null,
            "flex": null,
            "_model_name": "LayoutModel",
            "justify_items": null,
            "grid_row": null,
            "max_height": null,
            "align_content": null,
            "visibility": null,
            "align_self": null,
            "height": null,
            "min_height": null,
            "padding": null,
            "grid_auto_rows": null,
            "grid_gap": null,
            "max_width": null,
            "order": null,
            "_view_module_version": "1.2.0",
            "grid_template_areas": null,
            "object_position": null,
            "object_fit": null,
            "grid_auto_columns": null,
            "margin": null,
            "display": null,
            "left": null
          }
        },
        "0529471863414c268152112f709bbd9c": {
          "model_module": "@jupyter-widgets/controls",
          "model_name": "LabelModel",
          "state": {
            "_view_name": "LabelView",
            "style": "IPY_MODEL_f7016422cff74e91b56b3940d326164a",
            "_dom_classes": [],
            "description": "",
            "_model_name": "LabelModel",
            "placeholder": "​",
            "_view_module": "@jupyter-widgets/controls",
            "_model_module_version": "1.5.0",
            "value": " 0.01MB of 0.01MB uploaded (0.00MB deduped)\r",
            "_view_count": null,
            "_view_module_version": "1.5.0",
            "description_tooltip": null,
            "_model_module": "@jupyter-widgets/controls",
            "layout": "IPY_MODEL_8055f94559f4455fb9b450b0b2c2e8b5"
          }
        },
        "9d494be1fba64fd3aad180687f0c9b38": {
          "model_module": "@jupyter-widgets/controls",
          "model_name": "FloatProgressModel",
          "state": {
            "_view_name": "ProgressView",
            "style": "IPY_MODEL_91a62898e1f440e9b5446a1f4a086105",
            "_dom_classes": [],
            "description": "",
            "_model_name": "FloatProgressModel",
            "bar_style": "",
            "max": 1,
            "_view_module": "@jupyter-widgets/controls",
            "_model_module_version": "1.5.0",
            "value": 1,
            "_view_count": null,
            "_view_module_version": "1.5.0",
            "orientation": "horizontal",
            "min": 0,
            "description_tooltip": null,
            "_model_module": "@jupyter-widgets/controls",
            "layout": "IPY_MODEL_e596ca22a44d414589f389b83e963e75"
          }
        },
        "f7016422cff74e91b56b3940d326164a": {
          "model_module": "@jupyter-widgets/controls",
          "model_name": "DescriptionStyleModel",
          "state": {
            "_view_name": "StyleView",
            "_model_name": "DescriptionStyleModel",
            "description_width": "",
            "_view_module": "@jupyter-widgets/base",
            "_model_module_version": "1.5.0",
            "_view_count": null,
            "_view_module_version": "1.2.0",
            "_model_module": "@jupyter-widgets/controls"
          }
        },
        "8055f94559f4455fb9b450b0b2c2e8b5": {
          "model_module": "@jupyter-widgets/base",
          "model_name": "LayoutModel",
          "state": {
            "_view_name": "LayoutView",
            "grid_template_rows": null,
            "right": null,
            "justify_content": null,
            "_view_module": "@jupyter-widgets/base",
            "overflow": null,
            "_model_module_version": "1.2.0",
            "_view_count": null,
            "flex_flow": null,
            "width": null,
            "min_width": null,
            "border": null,
            "align_items": null,
            "bottom": null,
            "_model_module": "@jupyter-widgets/base",
            "top": null,
            "grid_column": null,
            "overflow_y": null,
            "overflow_x": null,
            "grid_auto_flow": null,
            "grid_area": null,
            "grid_template_columns": null,
            "flex": null,
            "_model_name": "LayoutModel",
            "justify_items": null,
            "grid_row": null,
            "max_height": null,
            "align_content": null,
            "visibility": null,
            "align_self": null,
            "height": null,
            "min_height": null,
            "padding": null,
            "grid_auto_rows": null,
            "grid_gap": null,
            "max_width": null,
            "order": null,
            "_view_module_version": "1.2.0",
            "grid_template_areas": null,
            "object_position": null,
            "object_fit": null,
            "grid_auto_columns": null,
            "margin": null,
            "display": null,
            "left": null
          }
        },
        "91a62898e1f440e9b5446a1f4a086105": {
          "model_module": "@jupyter-widgets/controls",
          "model_name": "ProgressStyleModel",
          "state": {
            "_view_name": "StyleView",
            "_model_name": "ProgressStyleModel",
            "description_width": "",
            "_view_module": "@jupyter-widgets/base",
            "_model_module_version": "1.5.0",
            "_view_count": null,
            "_view_module_version": "1.2.0",
            "bar_color": null,
            "_model_module": "@jupyter-widgets/controls"
          }
        },
        "e596ca22a44d414589f389b83e963e75": {
          "model_module": "@jupyter-widgets/base",
          "model_name": "LayoutModel",
          "state": {
            "_view_name": "LayoutView",
            "grid_template_rows": null,
            "right": null,
            "justify_content": null,
            "_view_module": "@jupyter-widgets/base",
            "overflow": null,
            "_model_module_version": "1.2.0",
            "_view_count": null,
            "flex_flow": null,
            "width": null,
            "min_width": null,
            "border": null,
            "align_items": null,
            "bottom": null,
            "_model_module": "@jupyter-widgets/base",
            "top": null,
            "grid_column": null,
            "overflow_y": null,
            "overflow_x": null,
            "grid_auto_flow": null,
            "grid_area": null,
            "grid_template_columns": null,
            "flex": null,
            "_model_name": "LayoutModel",
            "justify_items": null,
            "grid_row": null,
            "max_height": null,
            "align_content": null,
            "visibility": null,
            "align_self": null,
            "height": null,
            "min_height": null,
            "padding": null,
            "grid_auto_rows": null,
            "grid_gap": null,
            "max_width": null,
            "order": null,
            "_view_module_version": "1.2.0",
            "grid_template_areas": null,
            "object_position": null,
            "object_fit": null,
            "grid_auto_columns": null,
            "margin": null,
            "display": null,
            "left": null
          }
        }
      }
    }
  },
  "cells": [
    {
      "cell_type": "code",
      "metadata": {
        "colab": {
          "base_uri": "https://localhost:8080/",
          "height": 571,
          "referenced_widgets": [
            "885807e28fa747b3b1445dac0c8461de",
            "5cd4973afc8a44ad87bcb9025c67fbb7",
            "0529471863414c268152112f709bbd9c",
            "9d494be1fba64fd3aad180687f0c9b38",
            "f7016422cff74e91b56b3940d326164a",
            "8055f94559f4455fb9b450b0b2c2e8b5",
            "91a62898e1f440e9b5446a1f4a086105",
            "e596ca22a44d414589f389b83e963e75"
          ]
        },
        "id": "q_FyNJz0-fsG",
        "outputId": "98f82fd3-45c7-4432-8717-0dbb3c8bce26"
      },
      "source": [
        "import wandb\r\n",
        "from wandb.keras import WandbCallback\r\n",
        "from keras.datasets import fashion_mnist\r\n",
        "from matplotlib import pyplot as plt\r\n",
        "wandb.init(\"cs6910-assignment-1\")\r\n",
        "(train_X,train_Y),(test_X,test_Y)=fashion_mnist.load_data()\r\n",
        "\r\n",
        "wandb.init()\r\n",
        "classes=['T-shirt/top','Trouser','Pullover','Dress','Coat','Sandal','Shirt','Sneaker','Bag','Ankle boot']\r\n",
        "images=[]\r\n",
        "labels=[]\r\n",
        "for i in range(len(train_X)):\r\n",
        "  if(len(labels)==10):\r\n",
        "    break\r\n",
        "  if(classes[train_Y[i]] not in labels):\r\n",
        "    images.append(train_X[i])\r\n",
        "    labels.append(classes[train_Y[i]])\r\n",
        "\r\n",
        "wandb.log({\"Question 1\": [wandb.Image(img, caption=lbl) for img,lbl in zip(images,labels)]})"
      ],
      "execution_count": 3,
      "outputs": [
        {
          "output_type": "display_data",
          "data": {
            "application/javascript": [
              "\n",
              "        window._wandbApiKey = new Promise((resolve, reject) => {\n",
              "            function loadScript(url) {\n",
              "            return new Promise(function(resolve, reject) {\n",
              "                let newScript = document.createElement(\"script\");\n",
              "                newScript.onerror = reject;\n",
              "                newScript.onload = resolve;\n",
              "                document.body.appendChild(newScript);\n",
              "                newScript.src = url;\n",
              "            });\n",
              "            }\n",
              "            loadScript(\"https://cdn.jsdelivr.net/npm/postmate/build/postmate.min.js\").then(() => {\n",
              "            const iframe = document.createElement('iframe')\n",
              "            iframe.style.cssText = \"width:0;height:0;border:none\"\n",
              "            document.body.appendChild(iframe)\n",
              "            const handshake = new Postmate({\n",
              "                container: iframe,\n",
              "                url: 'https://wandb.ai/authorize'\n",
              "            });\n",
              "            const timeout = setTimeout(() => reject(\"Couldn't auto authenticate\"), 5000)\n",
              "            handshake.then(function(child) {\n",
              "                child.on('authorize', data => {\n",
              "                    clearTimeout(timeout)\n",
              "                    resolve(data)\n",
              "                });\n",
              "            });\n",
              "            })\n",
              "        });\n",
              "    "
            ],
            "text/plain": [
              "<IPython.core.display.Javascript object>"
            ]
          },
          "metadata": {
            "tags": []
          }
        },
        {
          "output_type": "stream",
          "text": [
            "\u001b[34m\u001b[1mwandb\u001b[0m: Appending key for api.wandb.ai to your netrc file: /root/.netrc\n"
          ],
          "name": "stderr"
        },
        {
          "output_type": "display_data",
          "data": {
            "text/html": [
              "\n",
              "                Tracking run with wandb version 0.10.21<br/>\n",
              "                Syncing run <strong style=\"color:#cdcd00\">misunderstood-sun-14</strong> to <a href=\"https://wandb.ai\" target=\"_blank\">Weights & Biases</a> <a href=\"https://docs.wandb.com/integrations/jupyter.html\" target=\"_blank\">(Documentation)</a>.<br/>\n",
              "                Project page: <a href=\"https://wandb.ai/adi00510/uncategorized\" target=\"_blank\">https://wandb.ai/adi00510/uncategorized</a><br/>\n",
              "                Run page: <a href=\"https://wandb.ai/adi00510/uncategorized/runs/2ywzw966\" target=\"_blank\">https://wandb.ai/adi00510/uncategorized/runs/2ywzw966</a><br/>\n",
              "                Run data is saved locally in <code>/content/wandb/run-20210308_033303-2ywzw966</code><br/><br/>\n",
              "            "
            ],
            "text/plain": [
              "<IPython.core.display.HTML object>"
            ]
          },
          "metadata": {
            "tags": []
          }
        },
        {
          "output_type": "stream",
          "text": [
            "Downloading data from https://storage.googleapis.com/tensorflow/tf-keras-datasets/train-labels-idx1-ubyte.gz\n",
            "32768/29515 [=================================] - 0s 0us/step\n",
            "Downloading data from https://storage.googleapis.com/tensorflow/tf-keras-datasets/train-images-idx3-ubyte.gz\n",
            "26427392/26421880 [==============================] - 0s 0us/step\n",
            "Downloading data from https://storage.googleapis.com/tensorflow/tf-keras-datasets/t10k-labels-idx1-ubyte.gz\n",
            "8192/5148 [===============================================] - 0s 0us/step\n",
            "Downloading data from https://storage.googleapis.com/tensorflow/tf-keras-datasets/t10k-images-idx3-ubyte.gz\n",
            "4423680/4422102 [==============================] - 0s 0us/step\n"
          ],
          "name": "stdout"
        },
        {
          "output_type": "display_data",
          "data": {
            "text/html": [
              "Finishing last run (ID:2ywzw966) before initializing another..."
            ],
            "text/plain": [
              "<IPython.core.display.HTML object>"
            ]
          },
          "metadata": {
            "tags": []
          }
        },
        {
          "output_type": "display_data",
          "data": {
            "text/html": [
              "<br/>Waiting for W&B process to finish, PID 119<br/>Program ended successfully."
            ],
            "text/plain": [
              "<IPython.core.display.HTML object>"
            ]
          },
          "metadata": {
            "tags": []
          }
        },
        {
          "output_type": "display_data",
          "data": {
            "application/vnd.jupyter.widget-view+json": {
              "model_id": "885807e28fa747b3b1445dac0c8461de",
              "version_minor": 0,
              "version_major": 2
            },
            "text/plain": [
              "VBox(children=(Label(value=' 0.00MB of 0.00MB uploaded (0.00MB deduped)\\r'), FloatProgress(value=1.0, max=1.0)…"
            ]
          },
          "metadata": {
            "tags": []
          }
        },
        {
          "output_type": "display_data",
          "data": {
            "text/html": [
              "Find user logs for this run at: <code>/content/wandb/run-20210308_033303-2ywzw966/logs/debug.log</code>"
            ],
            "text/plain": [
              "<IPython.core.display.HTML object>"
            ]
          },
          "metadata": {
            "tags": []
          }
        },
        {
          "output_type": "display_data",
          "data": {
            "text/html": [
              "Find internal logs for this run at: <code>/content/wandb/run-20210308_033303-2ywzw966/logs/debug-internal.log</code>"
            ],
            "text/plain": [
              "<IPython.core.display.HTML object>"
            ]
          },
          "metadata": {
            "tags": []
          }
        },
        {
          "output_type": "display_data",
          "data": {
            "text/html": [
              "Synced 5 W&B file(s), 0 media file(s), 0 artifact file(s) and 0 other file(s)"
            ],
            "text/plain": [
              "<IPython.core.display.HTML object>"
            ]
          },
          "metadata": {
            "tags": []
          }
        },
        {
          "output_type": "display_data",
          "data": {
            "text/html": [
              "\n",
              "                    <br/>Synced <strong style=\"color:#cdcd00\">misunderstood-sun-14</strong>: <a href=\"https://wandb.ai/adi00510/uncategorized/runs/2ywzw966\" target=\"_blank\">https://wandb.ai/adi00510/uncategorized/runs/2ywzw966</a><br/>\n",
              "                "
            ],
            "text/plain": [
              "<IPython.core.display.HTML object>"
            ]
          },
          "metadata": {
            "tags": []
          }
        },
        {
          "output_type": "display_data",
          "data": {
            "text/html": [
              "...Successfully finished last run (ID:2ywzw966). Initializing new run:<br/><br/>"
            ],
            "text/plain": [
              "<IPython.core.display.HTML object>"
            ]
          },
          "metadata": {
            "tags": []
          }
        },
        {
          "output_type": "display_data",
          "data": {
            "text/html": [
              "\n",
              "                Tracking run with wandb version 0.10.21<br/>\n",
              "                Syncing run <strong style=\"color:#cdcd00\">graceful-haze-15</strong> to <a href=\"https://wandb.ai\" target=\"_blank\">Weights & Biases</a> <a href=\"https://docs.wandb.com/integrations/jupyter.html\" target=\"_blank\">(Documentation)</a>.<br/>\n",
              "                Project page: <a href=\"https://wandb.ai/adi00510/uncategorized\" target=\"_blank\">https://wandb.ai/adi00510/uncategorized</a><br/>\n",
              "                Run page: <a href=\"https://wandb.ai/adi00510/uncategorized/runs/2m88hxiu\" target=\"_blank\">https://wandb.ai/adi00510/uncategorized/runs/2m88hxiu</a><br/>\n",
              "                Run data is saved locally in <code>/content/wandb/run-20210308_033307-2m88hxiu</code><br/><br/>\n",
              "            "
            ],
            "text/plain": [
              "<IPython.core.display.HTML object>"
            ]
          },
          "metadata": {
            "tags": []
          }
        }
      ]
    },
    {
      "cell_type": "code",
      "metadata": {
        "colab": {
          "base_uri": "https://localhost:8080/"
        },
        "id": "uuLXJZ1a5GDv",
        "outputId": "bd061878-27fd-445c-8bd8-0f4936a01135"
      },
      "source": [
        "!pip install wandb"
      ],
      "execution_count": 2,
      "outputs": [
        {
          "output_type": "stream",
          "text": [
            "Collecting wandb\n",
            "\u001b[?25l  Downloading https://files.pythonhosted.org/packages/00/17/b1e27f77c3d47f6915a774ecf632e3f5a7d49d9fa3991547729e7f19bedd/wandb-0.10.21-py2.py3-none-any.whl (2.0MB)\n",
            "\r\u001b[K     |▏                               | 10kB 25.5MB/s eta 0:00:01\r\u001b[K     |▎                               | 20kB 31.4MB/s eta 0:00:01\r\u001b[K     |▌                               | 30kB 24.0MB/s eta 0:00:01\r\u001b[K     |▋                               | 40kB 27.1MB/s eta 0:00:01\r\u001b[K     |▉                               | 51kB 26.2MB/s eta 0:00:01\r\u001b[K     |█                               | 61kB 28.5MB/s eta 0:00:01\r\u001b[K     |█▏                              | 71kB 24.6MB/s eta 0:00:01\r\u001b[K     |█▎                              | 81kB 25.8MB/s eta 0:00:01\r\u001b[K     |█▌                              | 92kB 22.4MB/s eta 0:00:01\r\u001b[K     |█▋                              | 102kB 23.4MB/s eta 0:00:01\r\u001b[K     |█▊                              | 112kB 23.4MB/s eta 0:00:01\r\u001b[K     |██                              | 122kB 23.4MB/s eta 0:00:01\r\u001b[K     |██                              | 133kB 23.4MB/s eta 0:00:01\r\u001b[K     |██▎                             | 143kB 23.4MB/s eta 0:00:01\r\u001b[K     |██▍                             | 153kB 23.4MB/s eta 0:00:01\r\u001b[K     |██▋                             | 163kB 23.4MB/s eta 0:00:01\r\u001b[K     |██▊                             | 174kB 23.4MB/s eta 0:00:01\r\u001b[K     |███                             | 184kB 23.4MB/s eta 0:00:01\r\u001b[K     |███                             | 194kB 23.4MB/s eta 0:00:01\r\u001b[K     |███▎                            | 204kB 23.4MB/s eta 0:00:01\r\u001b[K     |███▍                            | 215kB 23.4MB/s eta 0:00:01\r\u001b[K     |███▌                            | 225kB 23.4MB/s eta 0:00:01\r\u001b[K     |███▊                            | 235kB 23.4MB/s eta 0:00:01\r\u001b[K     |███▉                            | 245kB 23.4MB/s eta 0:00:01\r\u001b[K     |████                            | 256kB 23.4MB/s eta 0:00:01\r\u001b[K     |████▏                           | 266kB 23.4MB/s eta 0:00:01\r\u001b[K     |████▍                           | 276kB 23.4MB/s eta 0:00:01\r\u001b[K     |████▌                           | 286kB 23.4MB/s eta 0:00:01\r\u001b[K     |████▊                           | 296kB 23.4MB/s eta 0:00:01\r\u001b[K     |████▉                           | 307kB 23.4MB/s eta 0:00:01\r\u001b[K     |█████                           | 317kB 23.4MB/s eta 0:00:01\r\u001b[K     |█████▏                          | 327kB 23.4MB/s eta 0:00:01\r\u001b[K     |█████▎                          | 337kB 23.4MB/s eta 0:00:01\r\u001b[K     |█████▌                          | 348kB 23.4MB/s eta 0:00:01\r\u001b[K     |█████▋                          | 358kB 23.4MB/s eta 0:00:01\r\u001b[K     |█████▉                          | 368kB 23.4MB/s eta 0:00:01\r\u001b[K     |██████                          | 378kB 23.4MB/s eta 0:00:01\r\u001b[K     |██████▏                         | 389kB 23.4MB/s eta 0:00:01\r\u001b[K     |██████▎                         | 399kB 23.4MB/s eta 0:00:01\r\u001b[K     |██████▌                         | 409kB 23.4MB/s eta 0:00:01\r\u001b[K     |██████▋                         | 419kB 23.4MB/s eta 0:00:01\r\u001b[K     |██████▉                         | 430kB 23.4MB/s eta 0:00:01\r\u001b[K     |███████                         | 440kB 23.4MB/s eta 0:00:01\r\u001b[K     |███████                         | 450kB 23.4MB/s eta 0:00:01\r\u001b[K     |███████▎                        | 460kB 23.4MB/s eta 0:00:01\r\u001b[K     |███████▍                        | 471kB 23.4MB/s eta 0:00:01\r\u001b[K     |███████▋                        | 481kB 23.4MB/s eta 0:00:01\r\u001b[K     |███████▊                        | 491kB 23.4MB/s eta 0:00:01\r\u001b[K     |████████                        | 501kB 23.4MB/s eta 0:00:01\r\u001b[K     |████████                        | 512kB 23.4MB/s eta 0:00:01\r\u001b[K     |████████▎                       | 522kB 23.4MB/s eta 0:00:01\r\u001b[K     |████████▍                       | 532kB 23.4MB/s eta 0:00:01\r\u001b[K     |████████▋                       | 542kB 23.4MB/s eta 0:00:01\r\u001b[K     |████████▊                       | 552kB 23.4MB/s eta 0:00:01\r\u001b[K     |████████▉                       | 563kB 23.4MB/s eta 0:00:01\r\u001b[K     |█████████                       | 573kB 23.4MB/s eta 0:00:01\r\u001b[K     |█████████▏                      | 583kB 23.4MB/s eta 0:00:01\r\u001b[K     |█████████▍                      | 593kB 23.4MB/s eta 0:00:01\r\u001b[K     |█████████▌                      | 604kB 23.4MB/s eta 0:00:01\r\u001b[K     |█████████▊                      | 614kB 23.4MB/s eta 0:00:01\r\u001b[K     |█████████▉                      | 624kB 23.4MB/s eta 0:00:01\r\u001b[K     |██████████                      | 634kB 23.4MB/s eta 0:00:01\r\u001b[K     |██████████▏                     | 645kB 23.4MB/s eta 0:00:01\r\u001b[K     |██████████▍                     | 655kB 23.4MB/s eta 0:00:01\r\u001b[K     |██████████▌                     | 665kB 23.4MB/s eta 0:00:01\r\u001b[K     |██████████▋                     | 675kB 23.4MB/s eta 0:00:01\r\u001b[K     |██████████▉                     | 686kB 23.4MB/s eta 0:00:01\r\u001b[K     |███████████                     | 696kB 23.4MB/s eta 0:00:01\r\u001b[K     |███████████▏                    | 706kB 23.4MB/s eta 0:00:01\r\u001b[K     |███████████▎                    | 716kB 23.4MB/s eta 0:00:01\r\u001b[K     |███████████▌                    | 727kB 23.4MB/s eta 0:00:01\r\u001b[K     |███████████▋                    | 737kB 23.4MB/s eta 0:00:01\r\u001b[K     |███████████▉                    | 747kB 23.4MB/s eta 0:00:01\r\u001b[K     |████████████                    | 757kB 23.4MB/s eta 0:00:01\r\u001b[K     |████████████                    | 768kB 23.4MB/s eta 0:00:01\r\u001b[K     |████████████▎                   | 778kB 23.4MB/s eta 0:00:01\r\u001b[K     |████████████▍                   | 788kB 23.4MB/s eta 0:00:01\r\u001b[K     |████████████▋                   | 798kB 23.4MB/s eta 0:00:01\r\u001b[K     |████████████▊                   | 808kB 23.4MB/s eta 0:00:01\r\u001b[K     |█████████████                   | 819kB 23.4MB/s eta 0:00:01\r\u001b[K     |█████████████                   | 829kB 23.4MB/s eta 0:00:01\r\u001b[K     |█████████████▎                  | 839kB 23.4MB/s eta 0:00:01\r\u001b[K     |█████████████▍                  | 849kB 23.4MB/s eta 0:00:01\r\u001b[K     |█████████████▋                  | 860kB 23.4MB/s eta 0:00:01\r\u001b[K     |█████████████▊                  | 870kB 23.4MB/s eta 0:00:01\r\u001b[K     |█████████████▉                  | 880kB 23.4MB/s eta 0:00:01\r\u001b[K     |██████████████                  | 890kB 23.4MB/s eta 0:00:01\r\u001b[K     |██████████████▏                 | 901kB 23.4MB/s eta 0:00:01\r\u001b[K     |██████████████▍                 | 911kB 23.4MB/s eta 0:00:01\r\u001b[K     |██████████████▌                 | 921kB 23.4MB/s eta 0:00:01\r\u001b[K     |██████████████▊                 | 931kB 23.4MB/s eta 0:00:01\r\u001b[K     |██████████████▉                 | 942kB 23.4MB/s eta 0:00:01\r\u001b[K     |███████████████                 | 952kB 23.4MB/s eta 0:00:01\r\u001b[K     |███████████████▏                | 962kB 23.4MB/s eta 0:00:01\r\u001b[K     |███████████████▍                | 972kB 23.4MB/s eta 0:00:01\r\u001b[K     |███████████████▌                | 983kB 23.4MB/s eta 0:00:01\r\u001b[K     |███████████████▋                | 993kB 23.4MB/s eta 0:00:01\r\u001b[K     |███████████████▉                | 1.0MB 23.4MB/s eta 0:00:01\r\u001b[K     |████████████████                | 1.0MB 23.4MB/s eta 0:00:01\r\u001b[K     |████████████████▏               | 1.0MB 23.4MB/s eta 0:00:01\r\u001b[K     |████████████████▎               | 1.0MB 23.4MB/s eta 0:00:01\r\u001b[K     |████████████████▌               | 1.0MB 23.4MB/s eta 0:00:01\r\u001b[K     |████████████████▋               | 1.1MB 23.4MB/s eta 0:00:01\r\u001b[K     |████████████████▉               | 1.1MB 23.4MB/s eta 0:00:01\r\u001b[K     |█████████████████               | 1.1MB 23.4MB/s eta 0:00:01\r\u001b[K     |█████████████████▏              | 1.1MB 23.4MB/s eta 0:00:01\r\u001b[K     |█████████████████▎              | 1.1MB 23.4MB/s eta 0:00:01\r\u001b[K     |█████████████████▍              | 1.1MB 23.4MB/s eta 0:00:01\r\u001b[K     |█████████████████▋              | 1.1MB 23.4MB/s eta 0:00:01\r\u001b[K     |█████████████████▊              | 1.1MB 23.4MB/s eta 0:00:01\r\u001b[K     |██████████████████              | 1.1MB 23.4MB/s eta 0:00:01\r\u001b[K     |██████████████████              | 1.1MB 23.4MB/s eta 0:00:01\r\u001b[K     |██████████████████▎             | 1.2MB 23.4MB/s eta 0:00:01\r\u001b[K     |██████████████████▍             | 1.2MB 23.4MB/s eta 0:00:01\r\u001b[K     |██████████████████▋             | 1.2MB 23.4MB/s eta 0:00:01\r\u001b[K     |██████████████████▊             | 1.2MB 23.4MB/s eta 0:00:01\r\u001b[K     |███████████████████             | 1.2MB 23.4MB/s eta 0:00:01\r\u001b[K     |███████████████████             | 1.2MB 23.4MB/s eta 0:00:01\r\u001b[K     |███████████████████▏            | 1.2MB 23.4MB/s eta 0:00:01\r\u001b[K     |███████████████████▍            | 1.2MB 23.4MB/s eta 0:00:01\r\u001b[K     |███████████████████▌            | 1.2MB 23.4MB/s eta 0:00:01\r\u001b[K     |███████████████████▊            | 1.2MB 23.4MB/s eta 0:00:01\r\u001b[K     |███████████████████▉            | 1.3MB 23.4MB/s eta 0:00:01\r\u001b[K     |████████████████████            | 1.3MB 23.4MB/s eta 0:00:01\r\u001b[K     |████████████████████▏           | 1.3MB 23.4MB/s eta 0:00:01\r\u001b[K     |████████████████████▍           | 1.3MB 23.4MB/s eta 0:00:01\r\u001b[K     |████████████████████▌           | 1.3MB 23.4MB/s eta 0:00:01\r\u001b[K     |████████████████████▊           | 1.3MB 23.4MB/s eta 0:00:01\r\u001b[K     |████████████████████▉           | 1.3MB 23.4MB/s eta 0:00:01\r\u001b[K     |█████████████████████           | 1.3MB 23.4MB/s eta 0:00:01\r\u001b[K     |█████████████████████▏          | 1.3MB 23.4MB/s eta 0:00:01\r\u001b[K     |█████████████████████▎          | 1.4MB 23.4MB/s eta 0:00:01\r\u001b[K     |█████████████████████▌          | 1.4MB 23.4MB/s eta 0:00:01\r\u001b[K     |█████████████████████▋          | 1.4MB 23.4MB/s eta 0:00:01\r\u001b[K     |█████████████████████▉          | 1.4MB 23.4MB/s eta 0:00:01\r\u001b[K     |██████████████████████          | 1.4MB 23.4MB/s eta 0:00:01\r\u001b[K     |██████████████████████▏         | 1.4MB 23.4MB/s eta 0:00:01\r\u001b[K     |██████████████████████▎         | 1.4MB 23.4MB/s eta 0:00:01\r\u001b[K     |██████████████████████▌         | 1.4MB 23.4MB/s eta 0:00:01\r\u001b[K     |██████████████████████▋         | 1.4MB 23.4MB/s eta 0:00:01\r\u001b[K     |██████████████████████▊         | 1.4MB 23.4MB/s eta 0:00:01\r\u001b[K     |███████████████████████         | 1.5MB 23.4MB/s eta 0:00:01\r\u001b[K     |███████████████████████         | 1.5MB 23.4MB/s eta 0:00:01\r\u001b[K     |███████████████████████▎        | 1.5MB 23.4MB/s eta 0:00:01\r\u001b[K     |███████████████████████▍        | 1.5MB 23.4MB/s eta 0:00:01\r\u001b[K     |███████████████████████▋        | 1.5MB 23.4MB/s eta 0:00:01\r\u001b[K     |███████████████████████▊        | 1.5MB 23.4MB/s eta 0:00:01\r\u001b[K     |████████████████████████        | 1.5MB 23.4MB/s eta 0:00:01\r\u001b[K     |████████████████████████        | 1.5MB 23.4MB/s eta 0:00:01\r\u001b[K     |████████████████████████▏       | 1.5MB 23.4MB/s eta 0:00:01\r\u001b[K     |████████████████████████▍       | 1.5MB 23.4MB/s eta 0:00:01\r\u001b[K     |████████████████████████▌       | 1.6MB 23.4MB/s eta 0:00:01\r\u001b[K     |████████████████████████▊       | 1.6MB 23.4MB/s eta 0:00:01\r\u001b[K     |████████████████████████▉       | 1.6MB 23.4MB/s eta 0:00:01\r\u001b[K     |█████████████████████████       | 1.6MB 23.4MB/s eta 0:00:01\r\u001b[K     |█████████████████████████▏      | 1.6MB 23.4MB/s eta 0:00:01\r\u001b[K     |█████████████████████████▍      | 1.6MB 23.4MB/s eta 0:00:01\r\u001b[K     |█████████████████████████▌      | 1.6MB 23.4MB/s eta 0:00:01\r\u001b[K     |█████████████████████████▊      | 1.6MB 23.4MB/s eta 0:00:01\r\u001b[K     |█████████████████████████▉      | 1.6MB 23.4MB/s eta 0:00:01\r\u001b[K     |██████████████████████████      | 1.6MB 23.4MB/s eta 0:00:01\r\u001b[K     |██████████████████████████▏     | 1.7MB 23.4MB/s eta 0:00:01\r\u001b[K     |██████████████████████████▎     | 1.7MB 23.4MB/s eta 0:00:01\r\u001b[K     |██████████████████████████▌     | 1.7MB 23.4MB/s eta 0:00:01\r\u001b[K     |██████████████████████████▋     | 1.7MB 23.4MB/s eta 0:00:01\r\u001b[K     |██████████████████████████▉     | 1.7MB 23.4MB/s eta 0:00:01\r\u001b[K     |███████████████████████████     | 1.7MB 23.4MB/s eta 0:00:01\r\u001b[K     |███████████████████████████▏    | 1.7MB 23.4MB/s eta 0:00:01\r\u001b[K     |███████████████████████████▎    | 1.7MB 23.4MB/s eta 0:00:01\r\u001b[K     |███████████████████████████▌    | 1.7MB 23.4MB/s eta 0:00:01\r\u001b[K     |███████████████████████████▋    | 1.8MB 23.4MB/s eta 0:00:01\r\u001b[K     |███████████████████████████▊    | 1.8MB 23.4MB/s eta 0:00:01\r\u001b[K     |████████████████████████████    | 1.8MB 23.4MB/s eta 0:00:01\r\u001b[K     |████████████████████████████    | 1.8MB 23.4MB/s eta 0:00:01\r\u001b[K     |████████████████████████████▎   | 1.8MB 23.4MB/s eta 0:00:01\r\u001b[K     |████████████████████████████▍   | 1.8MB 23.4MB/s eta 0:00:01\r\u001b[K     |████████████████████████████▋   | 1.8MB 23.4MB/s eta 0:00:01\r\u001b[K     |████████████████████████████▊   | 1.8MB 23.4MB/s eta 0:00:01\r\u001b[K     |█████████████████████████████   | 1.8MB 23.4MB/s eta 0:00:01\r\u001b[K     |█████████████████████████████   | 1.8MB 23.4MB/s eta 0:00:01\r\u001b[K     |█████████████████████████████▎  | 1.9MB 23.4MB/s eta 0:00:01\r\u001b[K     |█████████████████████████████▍  | 1.9MB 23.4MB/s eta 0:00:01\r\u001b[K     |█████████████████████████████▌  | 1.9MB 23.4MB/s eta 0:00:01\r\u001b[K     |█████████████████████████████▊  | 1.9MB 23.4MB/s eta 0:00:01\r\u001b[K     |█████████████████████████████▉  | 1.9MB 23.4MB/s eta 0:00:01\r\u001b[K     |██████████████████████████████  | 1.9MB 23.4MB/s eta 0:00:01\r\u001b[K     |██████████████████████████████▏ | 1.9MB 23.4MB/s eta 0:00:01\r\u001b[K     |██████████████████████████████▍ | 1.9MB 23.4MB/s eta 0:00:01\r\u001b[K     |██████████████████████████████▌ | 1.9MB 23.4MB/s eta 0:00:01\r\u001b[K     |██████████████████████████████▊ | 1.9MB 23.4MB/s eta 0:00:01\r\u001b[K     |██████████████████████████████▉ | 2.0MB 23.4MB/s eta 0:00:01\r\u001b[K     |███████████████████████████████ | 2.0MB 23.4MB/s eta 0:00:01\r\u001b[K     |███████████████████████████████▏| 2.0MB 23.4MB/s eta 0:00:01\r\u001b[K     |███████████████████████████████▎| 2.0MB 23.4MB/s eta 0:00:01\r\u001b[K     |███████████████████████████████▌| 2.0MB 23.4MB/s eta 0:00:01\r\u001b[K     |███████████████████████████████▋| 2.0MB 23.4MB/s eta 0:00:01\r\u001b[K     |███████████████████████████████▉| 2.0MB 23.4MB/s eta 0:00:01\r\u001b[K     |████████████████████████████████| 2.0MB 23.4MB/s eta 0:00:01\r\u001b[K     |████████████████████████████████| 2.0MB 23.4MB/s \n",
            "\u001b[?25hRequirement already satisfied: promise<3,>=2.0 in /usr/local/lib/python3.7/dist-packages (from wandb) (2.3)\n",
            "Requirement already satisfied: protobuf>=3.12.0 in /usr/local/lib/python3.7/dist-packages (from wandb) (3.12.4)\n",
            "Requirement already satisfied: python-dateutil>=2.6.1 in /usr/local/lib/python3.7/dist-packages (from wandb) (2.8.1)\n",
            "Collecting shortuuid>=0.5.0\n",
            "  Downloading https://files.pythonhosted.org/packages/25/a6/2ecc1daa6a304e7f1b216f0896b26156b78e7c38e1211e9b798b4716c53d/shortuuid-1.0.1-py3-none-any.whl\n",
            "Requirement already satisfied: six>=1.13.0 in /usr/local/lib/python3.7/dist-packages (from wandb) (1.15.0)\n",
            "Requirement already satisfied: Click>=7.0 in /usr/local/lib/python3.7/dist-packages (from wandb) (7.1.2)\n",
            "Collecting docker-pycreds>=0.4.0\n",
            "  Downloading https://files.pythonhosted.org/packages/f5/e8/f6bd1eee09314e7e6dee49cbe2c5e22314ccdb38db16c9fc72d2fa80d054/docker_pycreds-0.4.0-py2.py3-none-any.whl\n",
            "Collecting sentry-sdk>=0.4.0\n",
            "\u001b[?25l  Downloading https://files.pythonhosted.org/packages/f3/92/5a33be64990ba815364a8f2dd9e6f51de60d23dfddafb4f1fc5577d4dc64/sentry_sdk-1.0.0-py2.py3-none-any.whl (131kB)\n",
            "\u001b[K     |████████████████████████████████| 133kB 57.3MB/s \n",
            "\u001b[?25hRequirement already satisfied: PyYAML in /usr/local/lib/python3.7/dist-packages (from wandb) (3.13)\n",
            "Collecting pathtools\n",
            "  Downloading https://files.pythonhosted.org/packages/e7/7f/470d6fcdf23f9f3518f6b0b76be9df16dcc8630ad409947f8be2eb0ed13a/pathtools-0.1.2.tar.gz\n",
            "Requirement already satisfied: psutil>=5.0.0 in /usr/local/lib/python3.7/dist-packages (from wandb) (5.4.8)\n",
            "Collecting GitPython>=1.0.0\n",
            "\u001b[?25l  Downloading https://files.pythonhosted.org/packages/a6/99/98019716955ba243657daedd1de8f3a88ca1f5b75057c38e959db22fb87b/GitPython-3.1.14-py3-none-any.whl (159kB)\n",
            "\u001b[K     |████████████████████████████████| 163kB 53.6MB/s \n",
            "\u001b[?25hRequirement already satisfied: requests<3,>=2.0.0 in /usr/local/lib/python3.7/dist-packages (from wandb) (2.23.0)\n",
            "Collecting subprocess32>=3.5.3\n",
            "\u001b[?25l  Downloading https://files.pythonhosted.org/packages/32/c8/564be4d12629b912ea431f1a50eb8b3b9d00f1a0b1ceff17f266be190007/subprocess32-3.5.4.tar.gz (97kB)\n",
            "\u001b[K     |████████████████████████████████| 102kB 13.8MB/s \n",
            "\u001b[?25hCollecting configparser>=3.8.1\n",
            "  Downloading https://files.pythonhosted.org/packages/fd/01/ff260a18caaf4457eb028c96eeb405c4a230ca06c8ec9c1379f813caa52e/configparser-5.0.2-py3-none-any.whl\n",
            "Requirement already satisfied: setuptools in /usr/local/lib/python3.7/dist-packages (from protobuf>=3.12.0->wandb) (54.0.0)\n",
            "Requirement already satisfied: urllib3>=1.10.0 in /usr/local/lib/python3.7/dist-packages (from sentry-sdk>=0.4.0->wandb) (1.24.3)\n",
            "Requirement already satisfied: certifi in /usr/local/lib/python3.7/dist-packages (from sentry-sdk>=0.4.0->wandb) (2020.12.5)\n",
            "Collecting gitdb<5,>=4.0.1\n",
            "\u001b[?25l  Downloading https://files.pythonhosted.org/packages/48/11/d1800bca0a3bae820b84b7d813ad1eff15a48a64caea9c823fc8c1b119e8/gitdb-4.0.5-py3-none-any.whl (63kB)\n",
            "\u001b[K     |████████████████████████████████| 71kB 10.2MB/s \n",
            "\u001b[?25hRequirement already satisfied: chardet<4,>=3.0.2 in /usr/local/lib/python3.7/dist-packages (from requests<3,>=2.0.0->wandb) (3.0.4)\n",
            "Requirement already satisfied: idna<3,>=2.5 in /usr/local/lib/python3.7/dist-packages (from requests<3,>=2.0.0->wandb) (2.10)\n",
            "Collecting smmap<4,>=3.0.1\n",
            "  Downloading https://files.pythonhosted.org/packages/d5/1e/6130925131f639b2acde0f7f18b73e33ce082ff2d90783c436b52040af5a/smmap-3.0.5-py2.py3-none-any.whl\n",
            "Building wheels for collected packages: pathtools, subprocess32\n",
            "  Building wheel for pathtools (setup.py) ... \u001b[?25l\u001b[?25hdone\n",
            "  Created wheel for pathtools: filename=pathtools-0.1.2-cp37-none-any.whl size=8786 sha256=8454b2a5a9a47d5b834b79405f5d9a4eccbf90d04de93cdcb2467a9d6dc9474d\n",
            "  Stored in directory: /root/.cache/pip/wheels/0b/04/79/c3b0c3a0266a3cb4376da31e5bfe8bba0c489246968a68e843\n",
            "  Building wheel for subprocess32 (setup.py) ... \u001b[?25l\u001b[?25hdone\n",
            "  Created wheel for subprocess32: filename=subprocess32-3.5.4-cp37-none-any.whl size=6489 sha256=6bfa0fd0d0467ad9609f15701ffcfe53fa03a343eeff27bbb392036ee4e77f68\n",
            "  Stored in directory: /root/.cache/pip/wheels/68/39/1a/5e402bdfdf004af1786c8b853fd92f8c4a04f22aad179654d1\n",
            "Successfully built pathtools subprocess32\n",
            "Installing collected packages: shortuuid, docker-pycreds, sentry-sdk, pathtools, smmap, gitdb, GitPython, subprocess32, configparser, wandb\n",
            "Successfully installed GitPython-3.1.14 configparser-5.0.2 docker-pycreds-0.4.0 gitdb-4.0.5 pathtools-0.1.2 sentry-sdk-1.0.0 shortuuid-1.0.1 smmap-3.0.5 subprocess32-3.5.4 wandb-0.10.21\n"
          ],
          "name": "stdout"
        }
      ]
    }
  ]
}